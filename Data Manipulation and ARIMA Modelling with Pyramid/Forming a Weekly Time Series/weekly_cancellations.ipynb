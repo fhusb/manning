{
 "cells": [
  {
   "cell_type": "code",
   "execution_count": 3,
   "id": "initial_id",
   "metadata": {
    "collapsed": true,
    "ExecuteTime": {
     "end_time": "2023-12-04T12:13:20.809323Z",
     "start_time": "2023-12-04T12:13:20.716888Z"
    }
   },
   "outputs": [
    {
     "data": {
      "text/plain": "                             IsCancelled\nDate (Year and Week Number)             \n201527                                41\n201528                                48\n201529                                87\n201530                                74\n201531                               101\n...                                  ...\n20175                                 51\n20176                                 91\n20177                                 96\n20178                                128\n20179                                 77\n\n[115 rows x 1 columns]",
      "text/html": "<div>\n<style scoped>\n    .dataframe tbody tr th:only-of-type {\n        vertical-align: middle;\n    }\n\n    .dataframe tbody tr th {\n        vertical-align: top;\n    }\n\n    .dataframe thead th {\n        text-align: right;\n    }\n</style>\n<table border=\"1\" class=\"dataframe\">\n  <thead>\n    <tr style=\"text-align: right;\">\n      <th></th>\n      <th>IsCancelled</th>\n    </tr>\n    <tr>\n      <th>Date (Year and Week Number)</th>\n      <th></th>\n    </tr>\n  </thead>\n  <tbody>\n    <tr>\n      <th>201527</th>\n      <td>41</td>\n    </tr>\n    <tr>\n      <th>201528</th>\n      <td>48</td>\n    </tr>\n    <tr>\n      <th>201529</th>\n      <td>87</td>\n    </tr>\n    <tr>\n      <th>201530</th>\n      <td>74</td>\n    </tr>\n    <tr>\n      <th>201531</th>\n      <td>101</td>\n    </tr>\n    <tr>\n      <th>...</th>\n      <td>...</td>\n    </tr>\n    <tr>\n      <th>20175</th>\n      <td>51</td>\n    </tr>\n    <tr>\n      <th>20176</th>\n      <td>91</td>\n    </tr>\n    <tr>\n      <th>20177</th>\n      <td>96</td>\n    </tr>\n    <tr>\n      <th>20178</th>\n      <td>128</td>\n    </tr>\n    <tr>\n      <th>20179</th>\n      <td>77</td>\n    </tr>\n  </tbody>\n</table>\n<p>115 rows × 1 columns</p>\n</div>"
     },
     "execution_count": 3,
     "metadata": {},
     "output_type": "execute_result"
    }
   ],
   "source": [
    "import pandas as pd\n",
    "data = pd.read_csv('H1.csv')\n",
    "data['Date (Year and Week Number)'] = data['ArrivalDateYear'].map(str) + data['ArrivalDateWeekNumber'].map(str)\n",
    "cancelled_data = data[data['IsCanceled'] == 1]\n",
    "cancelled_per_week = cancelled_data.groupby('Date (Year and Week Number)').size().to_frame(name= 'IsCancelled')\n",
    "cancelled_per_week"
   ]
  }
 ],
 "metadata": {
  "kernelspec": {
   "display_name": "Python 3",
   "language": "python",
   "name": "python3"
  },
  "language_info": {
   "codemirror_mode": {
    "name": "ipython",
    "version": 2
   },
   "file_extension": ".py",
   "mimetype": "text/x-python",
   "name": "python",
   "nbconvert_exporter": "python",
   "pygments_lexer": "ipython2",
   "version": "2.7.6"
  }
 },
 "nbformat": 4,
 "nbformat_minor": 5
}
